{
 "cells": [
  {
   "cell_type": "code",
   "execution_count": 1,
   "metadata": {},
   "outputs": [],
   "source": [
    "import pandas as pd\n",
    "import numpy as np\n",
    "import json\n",
    "\n",
    "from numpy import savetxt\n",
    "pd.set_option('display.max_rows', None)\n",
    "pd.set_option('display.max_columns', None)\n",
    "import sys\n",
    "np.set_printoptions(threshold=sys.maxsize)\n",
    "import os\n",
    "import matplotlib.pyplot as plt\n",
    "from sklearn import datasets\n",
    "import glob\n",
    "\n",
    "from datetime import datetime\n",
    "\n",
    "def days(d1, d2):\n",
    "    d1 = datetime.strptime(d1, \"%m/%d/%Y\")\n",
    "    d2 = datetime.strptime(d2, \"%m/%d/%Y\")\n",
    "    return abs((d2 - d1).days)+1"
   ]
  },
  {
   "cell_type": "code",
   "execution_count": 2,
   "metadata": {},
   "outputs": [],
   "source": [
    "f = open('../configs/data_cfg/data_cfg.json')\n",
    "result_path = json.load(f)['result_path']"
   ]
  },
  {
   "cell_type": "code",
   "execution_count": 3,
   "metadata": {},
   "outputs": [
    {
     "name": "stdout",
     "output_type": "stream",
     "text": [
      "(10, 4, 50, 3)\n",
      "(4, 50, 3)\n"
     ]
    }
   ],
   "source": [
    "numpy_vars = {}\n",
    "i = 0\n",
    "for np_name in glob.glob(result_path+'plotweek55result/*.npz'):\n",
    "    numpy_vars[i] = np.load(np_name)['prediction']\n",
    "    i = i +1\n",
    "ML_ensemble = np.stack([numpy_vars[i] for i in range(10)], axis = 0)\n",
    "ML_ensemble = np.squeeze(ML_ensemble,axis=2)\n",
    "#ML_ensemble = ML_ensemble.reshape(10,4,50,3)\n",
    "print(ML_ensemble.shape)\n",
    "ML_ensemble = np.mean(ML_ensemble,axis=0)\n",
    "print(ML_ensemble.shape)"
   ]
  },
  {
   "cell_type": "markdown",
   "metadata": {},
   "source": [
    "generate analysis result (MAE, RMSE, MIS, total death)"
   ]
  },
  {
   "cell_type": "code",
   "execution_count": 4,
   "metadata": {},
   "outputs": [
    {
     "data": {
      "text/plain": [
       "array([-203.17221   ,   -0.47118178,  118.79319   ], dtype=float32)"
      ]
     },
     "execution_count": 4,
     "metadata": {},
     "output_type": "execute_result"
    }
   ],
   "source": [
    "ML_ensemble[0,1]"
   ]
  },
  {
   "cell_type": "code",
   "execution_count": 5,
   "metadata": {},
   "outputs": [
    {
     "data": {
      "text/plain": [
       "(4, 50, 3)"
      ]
     },
     "execution_count": 5,
     "metadata": {},
     "output_type": "execute_result"
    }
   ],
   "source": [
    "ML_ensemble.shape"
   ]
  },
  {
   "cell_type": "code",
   "execution_count": 6,
   "metadata": {},
   "outputs": [
    {
     "name": "stdout",
     "output_type": "stream",
     "text": [
      "(4, 50, 23)\n"
     ]
    }
   ],
   "source": [
    "ML_ensemble_list = []\n",
    "for i in range (4):\n",
    "    range_low = ML_ensemble[i,:,1:2] - np.dot(ML_ensemble[i,:,1:2] - ML_ensemble[i,:,0:1],\n",
    "                                 np.array([[2.576,1.96,1.645,1.282,1.036,0.842,0.674,0.524,0.385,0.253,0.126]]))/1.96\n",
    "\n",
    "    range_high = ML_ensemble[i,:,1:2] + np.dot(ML_ensemble[i,:,2:3] - ML_ensemble[i,:,1:2],\n",
    "                                 np.array([[0.126,0.253,0.385,0.524,0.674,0.842,1.036,1.282,1.645,1.96,2.576]]))/1.96\n",
    "    \n",
    "    tmp_ML_allquantile = np.concatenate([range_low,ML_ensemble[i,:,1:2],range_high],axis=1)\n",
    "    ML_ensemble_list.append(tmp_ML_allquantile)\n",
    "    \n",
    "ML_ensemble_new = np.stack(ML_ensemble_list,axis=0)\n",
    "print(ML_ensemble_new.shape)\n",
    "    "
   ]
  },
  {
   "cell_type": "code",
   "execution_count": 7,
   "metadata": {},
   "outputs": [
    {
     "data": {
      "text/plain": [
       "array([-266.87825575, -203.17221633, -170.59526435, -133.0542054 ,\n",
       "       -107.61315718,  -87.54989152,  -70.17551713,  -54.66268285,\n",
       "        -40.28745642,  -26.63616226,  -13.50196257,   -0.47118178,\n",
       "          7.19581368,   14.9236583 ,   22.95574878,   31.41378345,\n",
       "         40.541159  ,   50.76381961,   62.56855865,   77.53745454,\n",
       "         99.62570336,  118.793192  ,  156.2762809 ])"
      ]
     },
     "execution_count": 7,
     "metadata": {},
     "output_type": "execute_result"
    }
   ],
   "source": [
    "ML_ensemble_new[0,1]"
   ]
  },
  {
   "cell_type": "markdown",
   "metadata": {},
   "source": [
    "number of crossing"
   ]
  },
  {
   "cell_type": "code",
   "execution_count": 8,
   "metadata": {},
   "outputs": [
    {
     "data": {
      "text/plain": [
       "0"
      ]
     },
     "execution_count": 8,
     "metadata": {},
     "output_type": "execute_result"
    }
   ],
   "source": [
    "np.sum(np.diff(ML_ensemble_new,axis=2) <= 0)"
   ]
  },
  {
   "cell_type": "markdown",
   "metadata": {},
   "source": [
    "solve crossing problem by setting number larger"
   ]
  },
  {
   "cell_type": "code",
   "execution_count": 9,
   "metadata": {},
   "outputs": [],
   "source": [
    "# ML_diff = np.diff(ML_ensemble_new,axis=2)\n",
    "# ML_diff = np.maximum(ML_diff,0)\n",
    "# ML_diff = np.concatenate([ML_ensemble_new[...,:1],ML_diff],axis=2)\n",
    "# ML_new_ensemble = np.cumsum(ML_diff,axis=2)\n",
    "\n",
    "# print(ML_diff.shape)\n",
    "# print(ML_new_ensemble.shape)\n",
    "\n",
    "# np.sum(np.diff(ML_new_ensemble,axis=2) ==0)\n",
    "\n",
    "# np.save('ensembledata.npy', ML_new_ensemble)"
   ]
  },
  {
   "cell_type": "code",
   "execution_count": 10,
   "metadata": {},
   "outputs": [
    {
     "data": {
      "text/plain": [
       "0"
      ]
     },
     "execution_count": 10,
     "metadata": {},
     "output_type": "execute_result"
    }
   ],
   "source": [
    "np.sum(np.diff(ML_ensemble_new,axis=2) ==0)"
   ]
  },
  {
   "cell_type": "code",
   "execution_count": 11,
   "metadata": {},
   "outputs": [],
   "source": [
    "np.save(result_path+'ensembledata.npy', ML_ensemble_new)"
   ]
  },
  {
   "cell_type": "code",
   "execution_count": null,
   "metadata": {},
   "outputs": [],
   "source": []
  },
  {
   "cell_type": "code",
   "execution_count": null,
   "metadata": {},
   "outputs": [],
   "source": []
  }
 ],
 "metadata": {
  "kernelspec": {
   "display_name": "Python 3",
   "language": "python",
   "name": "python3"
  },
  "language_info": {
   "codemirror_mode": {
    "name": "ipython",
    "version": 3
   },
   "file_extension": ".py",
   "mimetype": "text/x-python",
   "name": "python",
   "nbconvert_exporter": "python",
   "pygments_lexer": "ipython3",
   "version": "3.8.2"
  }
 },
 "nbformat": 4,
 "nbformat_minor": 4
}
